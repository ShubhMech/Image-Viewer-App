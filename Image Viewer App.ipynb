{
 "cells": [
  {
   "cell_type": "code",
   "execution_count": 96,
   "id": "adeee976-1326-4188-88f3-458c58097e94",
   "metadata": {},
   "outputs": [],
   "source": [
    "from tkinter import *\n",
    "from PIL import ImageTk, Image"
   ]
  },
  {
   "cell_type": "code",
   "execution_count": 97,
   "id": "6307ac4f-d51c-4cda-bd54-e9e7e5fe6844",
   "metadata": {},
   "outputs": [
    {
     "data": {
      "text/plain": [
       "''"
      ]
     },
     "execution_count": 97,
     "metadata": {},
     "output_type": "execute_result"
    }
   ],
   "source": [
    "root=Tk()\n",
    "root.iconbitmap(r\"C:\\Users\\Asus\\Desktop\\This\\tarzan_lumina_style_icons_icons_pack_120632\\tls_ico\\Tantor.ico\")\n",
    "root.title(\"Image_Viewer\")\n"
   ]
  },
  {
   "cell_type": "code",
   "execution_count": 98,
   "id": "e06ce845-9218-4fca-a599-e7454759f828",
   "metadata": {},
   "outputs": [],
   "source": [
    "my_img1 = ImageTk.PhotoImage((Image.open(r\"C:\\Users\\Asus\\Desktop\\This\\02.png\")).resize((300,300)))\n",
    "my_img2 = ImageTk.PhotoImage((Image.open(r\"D:\\Asus\\Videos\\Shubham Mishra.png\")).resize((300,300)))\n",
    "my_img3 = ImageTk.PhotoImage((Image.open(r\"D:\\Users\\Asus\\Downloads\\EtEZoDYW8AU0TfR.png\")).resize((300,300)))\n",
    "my_img4 = ImageTk.PhotoImage((Image.open(r\"D:\\Users\\Asus\\Downloads\\ErHpAv8XEAMcrkE.jfif\")).resize((300,300)))\n",
    "my_img5 = ImageTk.PhotoImage((Image.open(r\"D:\\Users\\Asus\\Downloads\\EqDa7kJUYAADXOL.png\")).resize((300,300)))"
   ]
  },
  {
   "cell_type": "code",
   "execution_count": 99,
   "id": "e3ce3126-8274-407e-9e82-7dd48b675b77",
   "metadata": {},
   "outputs": [],
   "source": [
    "img_list=[my_img1, my_img2, my_img3, my_img4, my_img5]"
   ]
  },
  {
   "cell_type": "code",
   "execution_count": 100,
   "id": "ae93ec33-4d25-4c0f-a134-aeab038b7519",
   "metadata": {},
   "outputs": [],
   "source": [
    "my_label = Label(image=my_img1)\n",
    "my_label.grid(row=0, column=0, columnspan=3)"
   ]
  },
  {
   "cell_type": "code",
   "execution_count": 101,
   "id": "82ba539e-53f2-4e7b-9f3f-7825988108a2",
   "metadata": {},
   "outputs": [],
   "source": [
    "def back():\n",
    "    return\n",
    "def forward(img_num):\n",
    "    global my_label\n",
    "    global button_forward\n",
    "    global button_back\n",
    "    \n",
    "    my_label.grid_forget()\n",
    "    my_label=Label(image=img_list[img_num-1])\n",
    "    my_label.grid(row=0, column=0, columnspan=3)\n",
    "    \n",
    "    \n",
    "    \n",
    "    button_forward=Button(root, text=\">>\", command=lambda: forward(img_num+1))\n",
    "    button_back=Button(root, text=\"<<\", command=lambda: backward(img_num-1))\n",
    "    if img_num==5:\n",
    "        button_forward=Button(root, text=\">>\", state= DISABLED)\n",
    "    \n",
    "    button_back.grid(row=1, column=0)\n",
    "    # button_exit.grid(row=1, column=1)\n",
    "    button_forward.grid(row=1, column=2)\n",
    "    \n",
    "def backward(img_num):\n",
    "    \n",
    "    global my_label\n",
    "    global button_forward\n",
    "    global button_back\n",
    "    \n",
    "    my_label.grid_forget()\n",
    "    my_label=Label(image=img_list[img_num-1])\n",
    "    my_label.grid(row=0, column=0, columnspan=3)\n",
    "    \n",
    "    \n",
    "    \n",
    "    button_forward=Button(root, text=\">>\", command=lambda: forward(img_num+1))\n",
    "    button_back=Button(root, text=\"<<\", command=lambda: backward(img_num-1))\n",
    "    if img_num==1:\n",
    "        button_back=Button(root, text=\"<<\", state= DISABLED)\n",
    "    \n",
    "    button_back.grid(row=1, column=0)\n",
    "#     button_exit.grid(row=1, column=1)\n",
    "    button_forward.grid(row=1, column=2)\n",
    "    \n",
    "    \n",
    "    \n",
    "    \n",
    "    \n",
    "    \n",
    "    \n"
   ]
  },
  {
   "cell_type": "code",
   "execution_count": null,
   "id": "50effb93-edce-4b7f-b05d-dcc2b215818e",
   "metadata": {},
   "outputs": [],
   "source": [
    "button_back = Button(root, text=\"<<\", command=back, state=DISABLED)\n",
    "button_exit = Button(root, text=\"Exit Program\", command=root.quit)\n",
    "button_forward = Button(root, text=\">>\", command=lambda: forward(2))\n",
    "\n",
    "\n",
    "button_back.grid(row=1, column=0)\n",
    "button_exit.grid(row=1, column=1)\n",
    "button_forward.grid(row=1, column=2)\n",
    "\n",
    "root.mainloop()"
   ]
  },
  {
   "cell_type": "code",
   "execution_count": null,
   "id": "b58c7714-d223-4192-8722-99fa9caf3348",
   "metadata": {},
   "outputs": [],
   "source": []
  }
 ],
 "metadata": {
  "kernelspec": {
   "display_name": "Python 3",
   "language": "python",
   "name": "python3"
  },
  "language_info": {
   "codemirror_mode": {
    "name": "ipython",
    "version": 3
   },
   "file_extension": ".py",
   "mimetype": "text/x-python",
   "name": "python",
   "nbconvert_exporter": "python",
   "pygments_lexer": "ipython3",
   "version": "3.8.5"
  }
 },
 "nbformat": 4,
 "nbformat_minor": 5
}
